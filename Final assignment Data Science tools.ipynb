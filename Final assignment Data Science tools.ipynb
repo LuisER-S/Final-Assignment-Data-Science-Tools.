{
 "cells": [
  {
   "cell_type": "markdown",
   "metadata": {},
   "source": [
    "<center>\n",
    "    <img src=\"https://cf-courses-data.s3.us.cloud-object-storage.appdomain.cloud/IBMDeveloperSkillsNetwork-DS0105EN-SkillsNetwork/labs/Module2/images/SN_web_lightmode.png\" width=\"300\" alt=\"cognitiveclass.ai logo\">\n",
    "</center>\n"
   ]
  },
  {
   "cell_type": "markdown",
   "metadata": {},
   "source": [
    "#### Add your code below following the instructions given in the course\n"
   ]
  },
  {
   "cell_type": "markdown",
   "metadata": {},
   "source": [
    "# Data Science Tools and Ecosystem"
   ]
  },
  {
   "cell_type": "markdown",
   "metadata": {},
   "source": [
    "In this notebook, Data Science Tools and Ecosystem are summarized."
   ]
  },
  {
   "cell_type": "markdown",
   "metadata": {},
   "source": [
    "Objectives:\n",
    "- List some popular languages for Data Science.\n",
    "- List some popular libraries used by Data Scientists.\n",
    "- List some Data Science Tools.\n",
    "- Evaluating arithmetic expressions."
   ]
  },
  {
   "cell_type": "markdown",
   "metadata": {},
   "source": [
    "Some popular languages that Data Scientists use are:\n",
    "1. Python.\n",
    "2. R.\n",
    "3. Java.\n",
    "4. C++.\n",
    "5. Julia.\n",
    "6. Scala.\n",
    "7. JavaScript. \n",
    "8. SQL. \n",
    "9. VBA\n",
    "10. C. "
   ]
  },
  {
   "cell_type": "markdown",
   "metadata": {},
   "source": [
    "Some of the commonly used libraries used by Data Scientists include: \n",
    "1. Pandas. \n",
    "2. Tensorflow.\n",
    "3. Ggplot2.\n",
    "4. NumPy. \n",
    "5. Plotly.\n",
    "6. PyTorch. \n",
    "7. SciPy.\n",
    "8. SciKit-Learn.\n",
    "9. Caffe.\n",
    "10. Matplotlib."
   ]
  },
  {
   "cell_type": "markdown",
   "metadata": {},
   "source": [
    "<center>\n",
    "    \n",
    "|Data Science Tools|\n",
    "------------------\n",
    "  |  RStudio|\n",
    "|Jupyter Notebook|\n",
    "   |Python|\n",
    "   |Zeppelin Notebook|\n",
    "   |Apache Spark|\n",
    "   |Apache Kafka|\n",
    "   |MongoDB|\n",
    "   \n",
    "   </center>\n",
    "   "
   ]
  },
  {
   "cell_type": "markdown",
   "metadata": {},
   "source": [
    "### Below are a few examples of evaluating airthmetic expressions in Python"
   ]
  },
  {
   "cell_type": "code",
   "execution_count": 43,
   "metadata": {},
   "outputs": [
    {
     "data": {
      "text/plain": [
       "17"
      ]
     },
     "execution_count": 43,
     "metadata": {},
     "output_type": "execute_result"
    }
   ],
   "source": [
    "#This is a simple arithmetic expression to multiply then add integers\n",
    "(3*4)+5"
   ]
  },
  {
   "cell_type": "code",
   "execution_count": 59,
   "metadata": {},
   "outputs": [
    {
     "name": "stdout",
     "output_type": "stream",
     "text": [
      "3.3333333333333335 hours\n"
     ]
    }
   ],
   "source": [
    "#This will convert 200 minutes to hours by dividing by 60\n",
    "minutes=200\n",
    "hours=minutes/60\n",
    "print(hours,\"hours\")"
   ]
  },
  {
   "cell_type": "markdown",
   "metadata": {},
   "source": [
    "## Author\n",
    "Luis Enrique Regil Sánchez"
   ]
  },
  {
   "cell_type": "code",
   "execution_count": null,
   "metadata": {},
   "outputs": [],
   "source": []
  }
 ],
 "metadata": {
  "kernelspec": {
   "display_name": "Python 3 (ipykernel)",
   "language": "python",
   "name": "python3"
  },
  "language_info": {
   "codemirror_mode": {
    "name": "ipython",
    "version": 3
   },
   "file_extension": ".py",
   "mimetype": "text/x-python",
   "name": "python",
   "nbconvert_exporter": "python",
   "pygments_lexer": "ipython3",
   "version": "3.11.7"
  }
 },
 "nbformat": 4,
 "nbformat_minor": 4
}
